{
 "cells": [
  {
   "cell_type": "code",
   "execution_count": 1,
   "metadata": {},
   "outputs": [],
   "source": [
    "import tensorflow as tf\n",
    "import matplotlib.pyplot as plt"
   ]
  },
  {
   "cell_type": "code",
   "execution_count": 2,
   "metadata": {},
   "outputs": [],
   "source": [
    "from tensorflow.compat.v1 import ConfigProto\n",
    "from tensorflow.compat.v1 import InteractiveSession\n",
    "config = ConfigProto()\n",
    "config.gpu_options.allow_growth = True\n",
    "session = InteractiveSession(config=config)"
   ]
  },
  {
   "cell_type": "code",
   "execution_count": 3,
   "metadata": {},
   "outputs": [],
   "source": [
    "cifar10 = tf.keras.datasets.cifar10\n",
    "(x_train,y_train),(x_test,y_test) = cifar10.load_data()\n",
    "x_train,x_test  =  x_train/255.0,x_test/255.0"
   ]
  },
  {
   "cell_type": "code",
   "execution_count": 4,
   "metadata": {},
   "outputs": [],
   "source": [
    "model = tf.keras.models.Sequential([\n",
    "    tf.keras.layers.Conv2D(96,(3,3),strides=1,padding='same'),\n",
    "    tf.keras.layers.BatchNormalization(),\n",
    "    tf.keras.layers.Activation(activation='relu'),\n",
    "    tf.keras.layers.MaxPool2D((3,3),strides=2,padding='valid'),\n",
    "                        \n",
    "    tf.keras.layers.Conv2D(256,(3,3),strides=1,padding='valid'),\n",
    "    tf.keras.layers.BatchNormalization(),\n",
    "    tf.keras.layers.Activation(activation='relu'),\n",
    "    tf.keras.layers.MaxPool2D((3,3),strides=2,padding='valid'),\n",
    "    \n",
    "    tf.keras.layers.Conv2D(384,(3,3),strides=1,padding='same',activation='relu'),\n",
    "    \n",
    "    tf.keras.layers.Conv2D(384,(3,3),strides=1,padding='same',activation='relu'),\n",
    "    \n",
    "    tf.keras.layers.Conv2D(256,(3,3),strides=1,padding='same',activation='relu'),\n",
    "    tf.keras.layers.MaxPool2D((3,3),strides=2,padding='valid'),\n",
    "    \n",
    "    tf.keras.layers.Flatten(),\n",
    "    \n",
    "    tf.keras.layers.Dense(2048,activation='relu'),\n",
    "    tf.keras.layers.Dropout(0.5),\n",
    "    \n",
    "    tf.keras.layers.Dense(2048,activation='relu'),\n",
    "    tf.keras.layers.Dropout(0.5),\n",
    "    \n",
    "    \n",
    "    tf.keras.layers.Dense(10,activation='softmax'),   \n",
    "])"
   ]
  },
  {
   "cell_type": "code",
   "execution_count": 5,
   "metadata": {},
   "outputs": [],
   "source": [
    "model.compile(optimizer='adam',\n",
    "               loss = tf.keras.losses.SparseCategoricalCrossentropy(from_logits=False),\n",
    "             metrics = ['acc'])"
   ]
  },
  {
   "cell_type": "code",
   "execution_count": 6,
   "metadata": {},
   "outputs": [
    {
     "name": "stdout",
     "output_type": "stream",
     "text": [
      "Train on 50000 samples, validate on 10000 samples\n",
      "Epoch 1/20\n",
      "50000/50000 [==============================] - 41s 818us/sample - loss: 1.6248 - acc: 0.4011 - val_loss: 1.3449 - val_acc: 0.5019\n",
      "Epoch 2/20\n",
      "50000/50000 [==============================] - 35s 706us/sample - loss: 1.2644 - acc: 0.5516 - val_loss: 1.1476 - val_acc: 0.6007\n",
      "Epoch 3/20\n",
      "50000/50000 [==============================] - 35s 700us/sample - loss: 1.1240 - acc: 0.6055 - val_loss: 1.2256 - val_acc: 0.5613\n",
      "Epoch 4/20\n",
      "50000/50000 [==============================] - 35s 692us/sample - loss: 1.0428 - acc: 0.6389 - val_loss: 1.2081 - val_acc: 0.5766\n",
      "Epoch 5/20\n",
      "50000/50000 [==============================] - 35s 695us/sample - loss: 0.9851 - acc: 0.6600 - val_loss: 0.9297 - val_acc: 0.6773\n",
      "Epoch 6/20\n",
      "50000/50000 [==============================] - 35s 693us/sample - loss: 0.9321 - acc: 0.6797 - val_loss: 1.0371 - val_acc: 0.6366\n",
      "Epoch 7/20\n",
      "50000/50000 [==============================] - 35s 692us/sample - loss: 0.8985 - acc: 0.6918 - val_loss: 1.2602 - val_acc: 0.5684\n",
      "Epoch 8/20\n",
      "50000/50000 [==============================] - 35s 694us/sample - loss: 0.8469 - acc: 0.7089 - val_loss: 1.1147 - val_acc: 0.6283\n",
      "Epoch 9/20\n",
      "50000/50000 [==============================] - 35s 694us/sample - loss: 0.8143 - acc: 0.7213 - val_loss: 0.9878 - val_acc: 0.6680\n",
      "Epoch 10/20\n",
      "50000/50000 [==============================] - 35s 695us/sample - loss: 0.7883 - acc: 0.7311 - val_loss: 1.0804 - val_acc: 0.6414\n",
      "Epoch 11/20\n",
      "50000/50000 [==============================] - 35s 695us/sample - loss: 0.7609 - acc: 0.7447 - val_loss: 0.9459 - val_acc: 0.6838\n",
      "Epoch 12/20\n",
      "50000/50000 [==============================] - 35s 694us/sample - loss: 0.7373 - acc: 0.7506 - val_loss: 0.9241 - val_acc: 0.6894\n",
      "Epoch 13/20\n",
      "50000/50000 [==============================] - 35s 693us/sample - loss: 0.7163 - acc: 0.7583 - val_loss: 0.9526 - val_acc: 0.6784\n",
      "Epoch 14/20\n",
      "50000/50000 [==============================] - 35s 701us/sample - loss: 0.6884 - acc: 0.7681 - val_loss: 0.8989 - val_acc: 0.7072\n",
      "Epoch 15/20\n",
      "50000/50000 [==============================] - 35s 700us/sample - loss: 0.6690 - acc: 0.7765 - val_loss: 0.9665 - val_acc: 0.6845\n",
      "Epoch 16/20\n",
      "50000/50000 [==============================] - 35s 697us/sample - loss: 0.6486 - acc: 0.7825 - val_loss: 1.0288 - val_acc: 0.6754\n",
      "Epoch 17/20\n",
      "50000/50000 [==============================] - 35s 698us/sample - loss: 0.6416 - acc: 0.7854 - val_loss: 0.8337 - val_acc: 0.7184\n",
      "Epoch 18/20\n",
      "50000/50000 [==============================] - 35s 701us/sample - loss: 0.6170 - acc: 0.7942 - val_loss: 0.9388 - val_acc: 0.7055\n",
      "Epoch 19/20\n",
      "50000/50000 [==============================] - 35s 696us/sample - loss: 0.6084 - acc: 0.7981 - val_loss: 0.9064 - val_acc: 0.7016\n",
      "Epoch 20/20\n",
      "50000/50000 [==============================] - 35s 701us/sample - loss: 0.6016 - acc: 0.7997 - val_loss: 0.9097 - val_acc: 0.7089\n"
     ]
    }
   ],
   "source": [
    "history = model.fit(x_train,y_train,\n",
    "                    batch_size=32,\n",
    "                    epochs=5,\n",
    "                    validation_data = (x_test,y_test),\n",
    "                    validation_freq=1)"
   ]
  },
  {
   "cell_type": "code",
   "execution_count": 7,
   "metadata": {},
   "outputs": [
    {
     "name": "stdout",
     "output_type": "stream",
     "text": [
      "Model: \"sequential\"\n",
      "_________________________________________________________________\n",
      "Layer (type)                 Output Shape              Param #   \n",
      "=================================================================\n",
      "conv2d (Conv2D)              multiple                  2688      \n",
      "_________________________________________________________________\n",
      "batch_normalization (BatchNo multiple                  384       \n",
      "_________________________________________________________________\n",
      "activation (Activation)      multiple                  0         \n",
      "_________________________________________________________________\n",
      "max_pooling2d (MaxPooling2D) multiple                  0         \n",
      "_________________________________________________________________\n",
      "conv2d_1 (Conv2D)            multiple                  221440    \n",
      "_________________________________________________________________\n",
      "batch_normalization_1 (Batch multiple                  1024      \n",
      "_________________________________________________________________\n",
      "activation_1 (Activation)    multiple                  0         \n",
      "_________________________________________________________________\n",
      "max_pooling2d_1 (MaxPooling2 multiple                  0         \n",
      "_________________________________________________________________\n",
      "conv2d_2 (Conv2D)            multiple                  885120    \n",
      "_________________________________________________________________\n",
      "conv2d_3 (Conv2D)            multiple                  1327488   \n",
      "_________________________________________________________________\n",
      "conv2d_4 (Conv2D)            multiple                  884992    \n",
      "_________________________________________________________________\n",
      "max_pooling2d_2 (MaxPooling2 multiple                  0         \n",
      "_________________________________________________________________\n",
      "flatten (Flatten)            multiple                  0         \n",
      "_________________________________________________________________\n",
      "dense (Dense)                multiple                  2099200   \n",
      "_________________________________________________________________\n",
      "dropout (Dropout)            multiple                  0         \n",
      "_________________________________________________________________\n",
      "dense_1 (Dense)              multiple                  4196352   \n",
      "_________________________________________________________________\n",
      "dropout_1 (Dropout)          multiple                  0         \n",
      "_________________________________________________________________\n",
      "dense_2 (Dense)              multiple                  20490     \n",
      "=================================================================\n",
      "Total params: 9,639,178\n",
      "Trainable params: 9,638,474\n",
      "Non-trainable params: 704\n",
      "_________________________________________________________________\n"
     ]
    }
   ],
   "source": [
    "model.summary()"
   ]
  },
  {
   "cell_type": "code",
   "execution_count": 9,
   "metadata": {},
   "outputs": [
    {
     "data": {
      "text/plain": [
       "dict_keys(['loss', 'acc', 'val_loss', 'val_acc'])"
      ]
     },
     "execution_count": 9,
     "metadata": {},
     "output_type": "execute_result"
    }
   ],
   "source": [
    "history.history.keys()"
   ]
  },
  {
   "cell_type": "code",
   "execution_count": 10,
   "metadata": {},
   "outputs": [],
   "source": [
    "loss =  history.history.get('loss')\n",
    "val_loss =history.history.get('val_loss')"
   ]
  },
  {
   "cell_type": "code",
   "execution_count": 11,
   "metadata": {},
   "outputs": [],
   "source": [
    "acc =  history.history.get('acc')\n",
    "val_acc =history.history.get('val_acc')"
   ]
  },
  {
   "cell_type": "code",
   "execution_count": 12,
   "metadata": {},
   "outputs": [
    {
     "data": {
      "text/plain": [
       "<matplotlib.legend.Legend at 0x2aab7748888>"
      ]
     },
     "execution_count": 12,
     "metadata": {},
     "output_type": "execute_result"
    },
    {
     "data": {
      "image/png": "[encoded data removed]",
      "text/plain": [
       "<Figure size 432x288 with 1 Axes>"
      ]
     },
     "metadata": {
      "needs_background": "light"
     },
     "output_type": "display_data"
    }
   ],
   "source": [
    "plt.plot(loss,label='Training Loss')\n",
    "plt.plot(val_loss,label='Validation Loss')\n",
    "plt.title('Training and Validation Loss')\n",
    "plt.legend()"
   ]
  },
  {
   "cell_type": "code",
   "execution_count": 13,
   "metadata": {},
   "outputs": [
    {
     "data": {
      "text/plain": [
       "<matplotlib.legend.Legend at 0x2aac5a6e788>"
      ]
     },
     "execution_count": 13,
     "metadata": {},
     "output_type": "execute_result"
    },
    {
     "data": {
      "image/png": "[encoded data removed]",
      "text/plain": [
       "<Figure size 432x288 with 1 Axes>"
      ]
     },
     "metadata": {
      "needs_background": "light"
     },
     "output_type": "display_data"
    }
   ],
   "source": [
    "plt.plot(acc,label='Training acc')\n",
    "plt.plot(val_acc,label='Validation acc')\n",
    "plt.title('Training and Validation acc')\n",
    "plt.legend()"
   ]
  },
  {
   "cell_type": "code",
   "execution_count": null,
   "metadata": {},
   "outputs": [],
   "source": []
  }
 ],
 "metadata": {
  "kernelspec": {
   "display_name": "tensorflow2.0",
   "language": "python",
   "name": "tf_2c"
  },
  "language_info": {
   "codemirror_mode": {
    "name": "ipython",
    "version": 3
   },
   "file_extension": ".py",
   "mimetype": "text/x-python",
   "name": "python",
   "nbconvert_exporter": "python",
   "pygments_lexer": "ipython3",
   "version": "3.7.8"
  }
 },
 "nbformat": 4,
 "nbformat_minor": 4
}
